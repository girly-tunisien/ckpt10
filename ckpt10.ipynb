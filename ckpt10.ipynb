{
 "cells": [
  {
   "cell_type": "code",
   "execution_count": 3,
   "id": "e34334b0",
   "metadata": {},
   "outputs": [
    {
     "name": "stdout",
     "output_type": "stream",
     "text": [
      "input the length of the countdown in seconds:2\n",
      "Fire in the hole\n"
     ]
    }
   ],
   "source": [
    "import time\n",
    "def countdown(t):\n",
    "    while t:\n",
    "        minutes,seconds=divmod(t, 60)\n",
    "        print(minutes,\":\",seconds,end = '\\r')\n",
    "        time.sleep(1)\n",
    "        t=t-1\n",
    "    return (\"Fire in the hole\")\n",
    "t=int(input(\"input the length of the countdown in seconds:\"))\n",
    "print(countdown(t))"
   ]
  },
  {
   "cell_type": "code",
   "execution_count": null,
   "id": "5ce40b6d",
   "metadata": {},
   "outputs": [],
   "source": []
  }
 ],
 "metadata": {
  "kernelspec": {
   "display_name": "Python 3",
   "language": "python",
   "name": "python3"
  },
  "language_info": {
   "codemirror_mode": {
    "name": "ipython",
    "version": 3
   },
   "file_extension": ".py",
   "mimetype": "text/x-python",
   "name": "python",
   "nbconvert_exporter": "python",
   "pygments_lexer": "ipython3",
   "version": "3.8.8"
  }
 },
 "nbformat": 4,
 "nbformat_minor": 5
}
